{
 "cells": [
  {
   "cell_type": "code",
   "execution_count": 1,
   "metadata": {},
   "outputs": [],
   "source": [
    "import os,sys\n",
    "import numpy as np\n",
    "import cv2\n",
    "import sklearn.metrics"
   ]
  },
  {
   "cell_type": "code",
   "execution_count": 2,
   "metadata": {},
   "outputs": [],
   "source": [
    "def precision_recall_curve(y_true, pred_scores, thresholds):\n",
    "    precisions = []\n",
    "    recalls = []\n",
    "    \n",
    "    for threshold in thresholds:\n",
    "        y_pred = [\"positive\" if score >= threshold else \"negative\" for score in pred_scores]\n",
    "        \n",
    "\n",
    "        precision = sklearn.metrics.precision_score(y_true=y_true, y_pred=y_pred, pos_label='positive')\n",
    "        recall = sklearn.metrics.recall_score(y_true=y_true, y_pred=y_pred, pos_label='positive')\n",
    "        \n",
    "        precisions.append(precision)\n",
    "        recalls.append(recall)\n",
    "\n",
    "    return precisions, recalls"
   ]
  },
  {
   "cell_type": "code",
   "execution_count": 43,
   "metadata": {},
   "outputs": [],
   "source": [
    "def AP_metric(recalls, precisions):\n",
    "    recalls.append(0)\n",
    "    precisions.append(1)\n",
    "    r = np.array(recalls)\n",
    "    p = np.array(precisions)\n",
    "    return np.sum((r[:-1] - r[1:]) * p[:-1])"
   ]
  },
  {
   "cell_type": "code",
   "execution_count": 44,
   "metadata": {},
   "outputs": [],
   "source": [
    "y_true = ['1', '2', '1', '1', '2', '1', '2', '1']\n",
    "pred_scores = [0.2, 1, 0.5, 0.7, 0.01, 0.3, 0.213, 0.863]\n",
    "thresholds = np.arange(start=0.2, stop=0.9, step=0.05)"
   ]
  },
  {
   "cell_type": "code",
   "execution_count": 45,
   "metadata": {},
   "outputs": [],
   "source": [
    "recs, pres = precision_recall_curve(y_true, pred_scores, thresholds)"
   ]
  },
  {
   "cell_type": "code",
   "execution_count": 46,
   "metadata": {},
   "outputs": [
    {
     "data": {
      "text/plain": [
       "0.12380952380952379"
      ]
     },
     "execution_count": 46,
     "metadata": {},
     "output_type": "execute_result"
    }
   ],
   "source": [
    "AP_metric(recs, pres)"
   ]
  },
  {
   "cell_type": "code",
   "execution_count": 5,
   "metadata": {},
   "outputs": [],
   "source": [
    "def text_detect(img, ele_size=(8,2)): \n",
    "    if len(img.shape)==3:\n",
    "        img = cv2.cvtColor(img,cv2.COLOR_BGR2GRAY)\n",
    "    img_sobel = cv2.Sobel(img,cv2.CV_8U,1,0)#same as default,None,3,1,0,cv2.BORDER_DEFAULT)\n",
    "    img_threshold = cv2.threshold(img_sobel,0,255,cv2.THRESH_OTSU+cv2.THRESH_BINARY)\n",
    "    element = cv2.getStructuringElement(cv2.MORPH_RECT,ele_size)\n",
    "    img_threshold = cv2.morphologyEx(img_threshold[1],cv2.MORPH_CLOSE,element)\n",
    "    res = cv2.findContours(img_threshold, cv2.RETR_EXTERNAL, cv2.CHAIN_APPROX_NONE)\n",
    "    if cv2.__version__.split(\".\")[0] == '3':\n",
    "        _, contours, hierarchy = res\n",
    "    else:\n",
    "        contours, hierarchy = res\n",
    "\n",
    "    Rect = [cv2.boundingRect(i) for i in contours if i.shape[0]>100]\n",
    "    print(Rect)\n",
    "    RectP = [(int(i[0]-i[2]*0.08),int(i[1]-i[3]*0.08),int(i[0]+i[2]*1.1),int(i[1]+i[3]*1.1)) for i in Rect]\n",
    "    return RectP"
   ]
  },
  {
   "cell_type": "code",
   "execution_count": 3,
   "metadata": {},
   "outputs": [],
   "source": [
    "route = 'C:\\\\interview\\\\dataset\\\\testing_data\\\\images\\\\'\n",
    "name_1 = '82092117.png'\n",
    "name_2 = '85629964.png'\n",
    "name_3 = '85240939.png'"
   ]
  },
  {
   "cell_type": "code",
   "execution_count": null,
   "metadata": {},
   "outputs": [],
   "source": [
    "input_file = "
   ]
  },
  {
   "cell_type": "code",
   "execution_count": 50,
   "metadata": {},
   "outputs": [
    {
     "data": {
      "text/plain": [
       "array([[  -1,  899,  122, 1001],\n",
       "       [  77,  891,  814, 1004],\n",
       "       [ 569,  895,  644,  914],\n",
       "       [ 498,  893,  569,  914],\n",
       "       [ 385,  888,  471,  908],\n",
       "       [ 241,  884,  393,  905],\n",
       "       [ 155,  881,  219,  899],\n",
       "       [  73,  877,  157,  897],\n",
       "       [   9,  857,   40,  908],\n",
       "       [ 572,  808,  767,  916],\n",
       "       [ 470,  811,  555,  831],\n",
       "       [ 416,  810,  470,  827],\n",
       "       [ 334,  806,  386,  824],\n",
       "       [ 267,  805,  332,  823],\n",
       "       [ 695,  804,  745,  826],\n",
       "       [ 108,  800,  215,  818],\n",
       "       [ 481,  765,  564,  783],\n",
       "       [ 427,  762,  479,  779],\n",
       "       [ 352,  760,  427,  780],\n",
       "       [ 204,  755,  288,  773],\n",
       "       [  73,  751,  169,  768],\n",
       "       [ 509,  733,  593,  752],\n",
       "       [ 362,  728,  464,  747],\n",
       "       [ 221,  724,  328,  743],\n",
       "       [ 611,  707,  695,  731],\n",
       "       [ 549,  703,  611,  722],\n",
       "       [ 437,  699,  501,  720],\n",
       "       [ 334,  696,  409,  716],\n",
       "       [ 253,  694,  306,  711],\n",
       "       [  76,  686,  171,  706],\n",
       "       [ 548,  674,  636,  691],\n",
       "       [ 464,  669,  550,  687],\n",
       "       [ 324,  664,  432,  684],\n",
       "       [ 223,  661,  330,  681],\n",
       "       [ 593,  658,  626,  677],\n",
       "       [  71,  657,  240,  682],\n",
       "       [ 509,  639,  635,  660],\n",
       "       [ 439,  639,  512,  655],\n",
       "       [ 298,  632,  393,  653],\n",
       "       [ 172,  627,  224,  651],\n",
       "       [ 596,  609,  667,  633],\n",
       "       [ 432,  605,  604,  636],\n",
       "       [ 320,  601,  372,  618],\n",
       "       [ 228,  597,  280,  615],\n",
       "       [ 144,  595,  208,  617],\n",
       "       [  80,  592,  143,  614],\n",
       "       [ 497,  579,  545,  604],\n",
       "       [ 391,  540,  434,  560],\n",
       "       [ 310,  537,  382,  558],\n",
       "       [ 256,  535,  307,  553],\n",
       "       [  79,  530,  175,  548],\n",
       "       [ 656,  491,  758,  837],\n",
       "       [ 302,  504,  374,  522],\n",
       "       [ 238,  503,  289,  520],\n",
       "       [  82,  499,  155,  516],\n",
       "       [ 710,  468,  744,  511],\n",
       "       [ 475,  451,  612,  470],\n",
       "       [ 404,  446,  480,  467],\n",
       "       [ 246,  440,  343,  461],\n",
       "       [ 192,  439,  246,  460],\n",
       "       [ 297,  413,  369,  429],\n",
       "       [ 218,  408,  296,  428],\n",
       "       [  85,  402,  141,  420],\n",
       "       [ 214,  341,  298,  358],\n",
       "       [  87,  340,  146,  357],\n",
       "       [ 455,  323,  505,  342],\n",
       "       [  81,  308,  203,  330],\n",
       "       [ 188,  303,  430,  340],\n",
       "       [ 161,  281,  274,  300],\n",
       "       [  84,  276,  168,  295],\n",
       "       [ 132,  250,  347,  272],\n",
       "       [  86,  245,  149,  263],\n",
       "       [ 253,  222,  328,  239],\n",
       "       [ 157,  220,  229,  238],\n",
       "       [  89,  214,  139,  231],\n",
       "       [ 307,  158,  435,  178],\n",
       "       [ 439,  132,  535,  150],\n",
       "       [ 365,  129,  446,  154],\n",
       "       [ 265,  126,  340,  144],\n",
       "       [ 503,  108,  543,  135],\n",
       "       [ 147,  106,  200,  123],\n",
       "       [ 386,   99,  450,  120],\n",
       "       [ 649,   71,  695,   98],\n",
       "       [ 405,   68,  500,   88],\n",
       "       [ 290,   60,  410,  135],\n",
       "       [ 538,   50,  695,  145],\n",
       "       [ 498,   38,  566,  117],\n",
       "       [ 288,   32,  326,   68],\n",
       "       [ 553,  -27,  766,  506],\n",
       "       [  80,   -8,  307,  237]])"
      ]
     },
     "execution_count": 50,
     "metadata": {},
     "output_type": "execute_result"
    }
   ],
   "source": [
    "np.array(rect)"
   ]
  },
  {
   "cell_type": "code",
   "execution_count": 8,
   "metadata": {},
   "outputs": [
    {
     "name": "stdout",
     "output_type": "stream",
     "text": [
      "[(7, 906, 105, 87), (127, 899, 625, 96), (575, 897, 63, 16), (503, 895, 60, 18), (391, 890, 73, 17), (252, 886, 129, 18), (160, 883, 54, 15), (79, 879, 71, 17), (12, 861, 26, 43), (586, 816, 165, 91), (476, 813, 72, 17), (420, 812, 46, 14), (338, 808, 44, 15), (272, 807, 55, 15), (699, 806, 42, 19), (116, 802, 90, 15), (487, 767, 70, 15), (431, 764, 44, 14), (358, 762, 63, 17), (210, 757, 71, 15), (80, 753, 81, 14), (515, 735, 71, 16), (369, 730, 87, 16), (229, 726, 90, 16), (617, 709, 71, 20), (554, 705, 52, 16), (442, 701, 54, 18), (340, 698, 63, 17), (257, 696, 45, 14), (83, 688, 80, 17), (554, 676, 75, 14), (470, 671, 73, 15), (332, 666, 91, 17), (231, 663, 90, 17), (596, 660, 28, 16), (83, 659, 143, 21), (518, 641, 107, 18), (444, 641, 62, 13), (305, 634, 80, 18), (176, 629, 44, 20), (601, 611, 60, 20), (444, 608, 146, 26), (324, 603, 44, 14), (232, 599, 44, 15), (149, 597, 54, 19), (85, 594, 53, 19), (501, 581, 40, 21), (394, 542, 37, 17), (315, 539, 61, 18), (260, 537, 43, 15), (86, 532, 81, 15), (663, 515, 87, 293), (307, 506, 61, 15), (242, 505, 43, 14), (87, 501, 62, 14), (713, 471, 29, 37), (485, 453, 116, 16), (410, 448, 64, 18), (253, 442, 82, 18), (196, 441, 46, 18), (302, 415, 61, 13), (224, 410, 66, 17), (89, 404, 48, 15), (220, 343, 71, 14), (91, 342, 50, 14), (459, 325, 42, 16), (90, 310, 103, 19), (205, 306, 205, 31), (169, 283, 96, 16), (90, 278, 71, 16), (147, 252, 182, 19), (91, 247, 53, 15), (259, 224, 63, 14), (162, 222, 61, 15), (93, 216, 42, 14), (316, 160, 109, 17), (446, 134, 81, 15), (371, 131, 69, 21), (271, 128, 63, 15), (506, 110, 34, 23), (151, 108, 45, 14), (391, 101, 54, 18), (653, 73, 39, 23), (412, 70, 80, 17), (299, 66, 101, 63), (549, 57, 133, 80), (503, 44, 58, 67), (291, 35, 32, 30), (568, 9, 180, 452), (96, 8, 192, 209)]\n"
     ]
    },
    {
     "data": {
      "text/plain": [
       "True"
      ]
     },
     "execution_count": 8,
     "metadata": {},
     "output_type": "execute_result"
    }
   ],
   "source": [
    "# outputFile = inputFile.split('.')[0]+'-rect.'+'.'.join(inputFile.split('.')[1:])\n",
    "# print(outputFile)\n",
    "img = cv2.imread(route + name_3)\n",
    "rect = text_detect(img)\n",
    "for i in rect:\n",
    "    cv2.rectangle(img,i[:2],i[2:],(0,0,255))\n",
    "cv2.imwrite(\"/static/output\" + name_3, img)"
   ]
  },
  {
   "cell_type": "code",
   "execution_count": null,
   "metadata": {},
   "outputs": [],
   "source": []
  }
 ],
 "metadata": {
  "kernelspec": {
   "display_name": "Python 3",
   "language": "python",
   "name": "python3"
  },
  "language_info": {
   "codemirror_mode": {
    "name": "ipython",
    "version": 3
   },
   "file_extension": ".py",
   "mimetype": "text/x-python",
   "name": "python",
   "nbconvert_exporter": "python",
   "pygments_lexer": "ipython3",
   "version": "3.7.6"
  }
 },
 "nbformat": 4,
 "nbformat_minor": 4
}
