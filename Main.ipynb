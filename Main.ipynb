{
 "cells": [
  {
   "cell_type": "code",
   "execution_count": 1,
   "metadata": {},
   "outputs": [],
   "source": [
    "import flask\n",
    "import io\n",
    "import string\n",
    "import time\n",
    "import numpy as np\n",
    "import tensorflow as tf\n",
    "import argparse\n",
    "from PIL import Image\n",
    "import os,sys\n",
    "import numpy as np\n",
    "import cv2\n",
    "import json\n",
    "from flask import Flask, jsonify, request, render_template"
   ]
  },
  {
   "cell_type": "code",
   "execution_count": 2,
   "metadata": {},
   "outputs": [],
   "source": [
    "sys.path.append('keras-retinanet/')"
   ]
  },
  {
   "cell_type": "code",
   "execution_count": 3,
   "metadata": {},
   "outputs": [],
   "source": [
    "from models.opencv_utils import predict_cv, AP_metric\n",
    "from models.retinanet_model import save_drawed_boxes, retina_predict\n",
    "from keras_retinanet.models import load_model"
   ]
  },
  {
   "cell_type": "code",
   "execution_count": 4,
   "metadata": {},
   "outputs": [],
   "source": [
    "model_input_path = \"C:\\\\document_object_detection_task\\\\keras-retinanet\\\\model.h5\""
   ]
  },
  {
   "cell_type": "code",
   "execution_count": 5,
   "metadata": {},
   "outputs": [],
   "source": [
    "model_output_path = \"static/output_\""
   ]
  },
  {
   "cell_type": "code",
   "execution_count": 6,
   "metadata": {},
   "outputs": [
    {
     "name": "stderr",
     "output_type": "stream",
     "text": [
      "Using TensorFlow backend.\n"
     ]
    },
    {
     "name": "stdout",
     "output_type": "stream",
     "text": [
      "WARNING:tensorflow:No training configuration found in the save file, so the model was *not* compiled. Compile it manually.\n"
     ]
    }
   ],
   "source": [
    "model = load_model(model_input_path, backbone_name='resnet50')"
   ]
  },
  {
   "cell_type": "code",
   "execution_count": 29,
   "metadata": {},
   "outputs": [],
   "source": [
    "app = Flask(__name__)\n",
    "@app.route(\"/\")\n",
    "def hello():\n",
    "    return render_template('page.html')\n",
    "\n",
    "@app.route(\"/\", methods=['GET', 'POST'])\n",
    "def test_model():\n",
    "    if request.method == 'POST':\n",
    "        file_name = request.form['file_name']\n",
    "        \n",
    "        boxes_cv = predict_cv(file_name, model_output_path + 'cv_' + file_name)\n",
    "        boxes_model, scores, labels = retina_predict(input_path=file_name, \n",
    "                                               output_path=model_output_path + file_name,\n",
    "                                                 model=model, threshold=0.06)\n",
    "        boxes_model=boxes_model[0].astype(int)\n",
    "        print(\"AP metric for boxes: {}\".format(AP_metric(scores[0], \n",
    "                                thresholds=np.arange(start=0.035, stop=0.91, step = 0.035))))\n",
    "        boxes = boxes_model if args.is_opencv_model_used == 'True' else boxes_cv\n",
    "    return json.dumps(boxes.tolist(), separators=(',', ':'))\n",
    "\n",
    "@app.route(\"/cv\", methods=['GET', 'POST'])\n",
    "def get_opencv_img():\n",
    "    return \"output82092117.png\"\n",
    "\n",
    "@app.route(\"/model\", methods=['GET', 'POST'])\n",
    "def get_model_img():\n",
    "    return \"output82092117.png\""
   ]
  },
  {
   "cell_type": "code",
   "execution_count": 30,
   "metadata": {},
   "outputs": [
    {
     "name": "stdout",
     "output_type": "stream",
     "text": [
      " * Serving Flask app \"__main__\" (lazy loading)\n",
      " * Environment: production\n",
      "   WARNING: This is a development server. Do not use it in a production deployment.\n",
      "   Use a production WSGI server instead.\n",
      " * Debug mode: off\n"
     ]
    },
    {
     "name": "stderr",
     "output_type": "stream",
     "text": [
      " * Running on http://127.0.0.1:8889/ (Press CTRL+C to quit)\n"
     ]
    },
    {
     "name": "stdout",
     "output_type": "stream",
     "text": [
      "[(58, 937, 55, 12), (82, 881, 395, 12), (81, 826, 266, 12), (415, 812, 51, 31), (81, 796, 69, 15), (81, 758, 177, 11), (328, 756, 80, 16), (80, 730, 54, 13), (310, 621, 105, 14), (311, 593, 91, 11), (501, 566, 138, 13), (311, 566, 48, 13), (311, 511, 51, 13), (311, 497, 53, 11), (80, 497, 104, 11), (309, 483, 56, 12), (80, 483, 107, 12), (501, 470, 71, 11), (311, 469, 67, 12), (80, 469, 87, 12), (501, 456, 96, 12), (311, 456, 69, 11), (80, 456, 81, 11), (310, 429, 52, 12), (278, 374, 194, 14), (80, 374, 180, 13), (83, 319, 107, 11), (231, 316, 56, 16), (82, 291, 105, 11), (248, 290, 65, 15), (323, 289, 75, 12), (263, 237, 225, 13), (83, 182, 98, 13), (222, 181, 65, 16), (247, 153, 56, 11), (502, 129, 83, 11), (608, 128, 58, 15), (221, 128, 101, 17)]\n"
     ]
    },
    {
     "name": "stderr",
     "output_type": "stream",
     "text": [
      "127.0.0.1 - - [21/Jul/2021 23:10:16] \"\u001b[37mGET / HTTP/1.1\u001b[0m\" 200 -\n",
      "127.0.0.1 - - [21/Jul/2021 23:10:17] \"\u001b[37mPOST / HTTP/1.1\u001b[0m\" 200 -\n"
     ]
    },
    {
     "name": "stdout",
     "output_type": "stream",
     "text": [
      "AP metric for boxes: 1.0\n",
      "[(58, 937, 55, 12), (82, 881, 395, 12), (81, 826, 266, 12), (415, 812, 51, 31), (81, 796, 69, 15), (81, 758, 177, 11), (328, 756, 80, 16), (80, 730, 54, 13), (310, 621, 105, 14), (311, 593, 91, 11), (501, 566, 138, 13), (311, 566, 48, 13), (311, 511, 51, 13), (311, 497, 53, 11), (80, 497, 104, 11), (309, 483, 56, 12), (80, 483, 107, 12), (501, 470, 71, 11), (311, 469, 67, 12), (80, 469, 87, 12), (501, 456, 96, 12), (311, 456, 69, 11), (80, 456, 81, 11), (310, 429, 52, 12), (278, 374, 194, 14), (80, 374, 180, 13), (83, 319, 107, 11), (231, 316, 56, 16), (82, 291, 105, 11), (248, 290, 65, 15), (323, 289, 75, 12), (263, 237, 225, 13), (83, 182, 98, 13), (222, 181, 65, 16), (247, 153, 56, 11), (502, 129, 83, 11), (608, 128, 58, 15), (221, 128, 101, 17)]\n"
     ]
    },
    {
     "name": "stderr",
     "output_type": "stream",
     "text": [
      "127.0.0.1 - - [21/Jul/2021 23:10:27] \"\u001b[37mPOST / HTTP/1.1\u001b[0m\" 200 -\n"
     ]
    },
    {
     "name": "stdout",
     "output_type": "stream",
     "text": [
      "AP metric for boxes: 1.0\n"
     ]
    },
    {
     "name": "stderr",
     "output_type": "stream",
     "text": [
      "127.0.0.1 - - [21/Jul/2021 23:11:12] \"\u001b[37mGET / HTTP/1.1\u001b[0m\" 200 -\n",
      "127.0.0.1 - - [21/Jul/2021 23:11:14] \"\u001b[37mGET /model HTTP/1.1\u001b[0m\" 200 -\n",
      "127.0.0.1 - - [21/Jul/2021 23:13:46] \"\u001b[37mGET /cv HTTP/1.1\u001b[0m\" 200 -\n",
      "127.0.0.1 - - [21/Jul/2021 23:13:50] \"\u001b[37mGET /model HTTP/1.1\u001b[0m\" 200 -\n"
     ]
    }
   ],
   "source": [
    "if __name__ == '__main__':\n",
    "    parser = argparse.ArgumentParser(description='Object detection service')\n",
    "    parser.add_argument('is_opencv_model_used', metavar='boolean', help=\"Use opencv model or note\")\n",
    "    args = parser.parse_args()\n",
    "    app.run(port=8889)"
   ]
  },
  {
   "cell_type": "code",
   "execution_count": null,
   "metadata": {},
   "outputs": [],
   "source": []
  }
 ],
 "metadata": {
  "kernelspec": {
   "display_name": "Python 3",
   "language": "python",
   "name": "python3"
  },
  "language_info": {
   "codemirror_mode": {
    "name": "ipython",
    "version": 3
   },
   "file_extension": ".py",
   "mimetype": "text/x-python",
   "name": "python",
   "nbconvert_exporter": "python",
   "pygments_lexer": "ipython3",
   "version": "3.7.6"
  }
 },
 "nbformat": 4,
 "nbformat_minor": 4
}
