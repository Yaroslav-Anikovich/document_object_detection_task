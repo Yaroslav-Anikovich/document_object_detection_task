{
 "cells": [
  {
   "cell_type": "code",
   "execution_count": 1,
   "metadata": {},
   "outputs": [],
   "source": [
    "import os,sys\n",
    "import numpy as np\n",
    "import cv2\n",
    "import sklearn.metrics"
   ]
  },
  {
   "cell_type": "code",
   "execution_count": 3,
   "metadata": {},
   "outputs": [],
   "source": [
    "def precision_recall_curve(pred_scores, thresholds):\n",
    "    precisions = []\n",
    "    recalls = []\n",
    "    \n",
    "    for threshold in thresholds:\n",
    "        y_pred = [\"positive\" if score >= threshold else \"negative\" for score in pred_scores]\n",
    "        y_true = [\"positive\"] * len(y_pred)\n",
    "\n",
    "        precision = sklearn.metrics.precision_score(y_true=y_true, y_pred=y_pred, pos_label='positive')\n",
    "        recall = sklearn.metrics.recall_score(y_true=y_true, y_pred=y_pred, pos_label='positive')\n",
    "        \n",
    "        precisions.append(precision)\n",
    "        recalls.append(recall)\n",
    "\n",
    "    return precisions, recalls"
   ]
  },
  {
   "cell_type": "code",
   "execution_count": 4,
   "metadata": {},
   "outputs": [],
   "source": [
    "def AP_metric(recalls, precisions):\n",
    "    recalls.append(0)\n",
    "    precisions.append(1)\n",
    "    r = np.array(recalls)\n",
    "    p = np.array(precisions)\n",
    "    return np.sum((r[:-1] - r[1:]) * p[:-1])"
   ]
  },
  {
   "cell_type": "code",
   "execution_count": 8,
   "metadata": {},
   "outputs": [],
   "source": [
    "def text_detect(img, ele_size=(8,2)): \n",
    "    if len(img.shape)==3:\n",
    "        img = cv2.cvtColor(img,cv2.COLOR_BGR2GRAY)\n",
    "    img_sobel = cv2.Sobel(img,cv2.CV_8U,1,0)#same as default,None,3,1,0,cv2.BORDER_DEFAULT)\n",
    "    img_threshold = cv2.threshold(img_sobel,0,255,cv2.THRESH_OTSU+cv2.THRESH_BINARY)\n",
    "    element = cv2.getStructuringElement(cv2.MORPH_RECT,ele_size)\n",
    "    img_threshold = cv2.morphologyEx(img_threshold[1],cv2.MORPH_CLOSE,element)\n",
    "    res = cv2.findContours(img_threshold, cv2.RETR_EXTERNAL, cv2.CHAIN_APPROX_NONE)\n",
    "    if cv2.__version__.split(\".\")[0] == '3':\n",
    "        _, contours, hierarchy = res\n",
    "    else:\n",
    "        contours, hierarchy = res\n",
    "\n",
    "    Rect = [cv2.boundingRect(i) for i in contours if i.shape[0]>100]\n",
    "    print(Rect)\n",
    "    RectP = [(int(i[0]-i[2]*0.08),int(i[1]-i[3]*0.08),int(i[0]+i[2]*1.1),int(i[1]+i[3]*1.1)) for i in Rect]\n",
    "    return RectP"
   ]
  },
  {
   "cell_type": "code",
   "execution_count": 9,
   "metadata": {},
   "outputs": [],
   "source": [
    "def save_img(img, output_path):\n",
    "    cv2.imwrite(output_path, img)"
   ]
  },
  {
   "cell_type": "code",
   "execution_count": 10,
   "metadata": {},
   "outputs": [],
   "source": [
    "def predict_cv(input_path, output_path):\n",
    "    img = cv2.imread(input_path)\n",
    "    rect = text_detect(img)\n",
    "    for i in rect:\n",
    "        cv2.rectangle(img,i[:2],i[2:],(0,0,255))\n",
    "    save_img(output_path, img)\n",
    "    return np.array(rect)"
   ]
  },
  {
   "cell_type": "code",
   "execution_count": null,
   "metadata": {},
   "outputs": [],
   "source": []
  }
 ],
 "metadata": {
  "kernelspec": {
   "display_name": "Python 3",
   "language": "python",
   "name": "python3"
  },
  "language_info": {
   "codemirror_mode": {
    "name": "ipython",
    "version": 3
   },
   "file_extension": ".py",
   "mimetype": "text/x-python",
   "name": "python",
   "nbconvert_exporter": "python",
   "pygments_lexer": "ipython3",
   "version": "3.7.6"
  }
 },
 "nbformat": 4,
 "nbformat_minor": 4
}
